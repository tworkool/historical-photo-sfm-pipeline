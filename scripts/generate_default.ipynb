{
 "cells": [
  {
   "cell_type": "code",
   "execution_count": 2,
   "id": "987bf3b2-399b-42a3-bb72-158196c51184",
   "metadata": {},
   "outputs": [
    {
     "name": "stdout",
     "output_type": "stream",
     "text": [
      "Created new session with ID DSP_SIFT_RatehausKoepenickShort_AgfaIsolette under /mnt/d/dev/python/historical-photo-sfm-pipeline/data/3_results/FINAL\n"
     ]
    }
   ],
   "source": [
    "import os, time, sys\n",
    "from pathlib import Path\n",
    "import sys\n",
    "\n",
    "ROOT = Path().absolute().parent\n",
    "if str(ROOT) not in sys.path:\n",
    "    sys.path.append(str(ROOT))\n",
    "\n",
    "SESSION_NAME = \"DSP_SIFT_RatehausKoepenickShort_AgfaIsolette\" #<<< SET SESSION NAME\n",
    "\n",
    "RAW_INPUT_PATH = Path(f\"{ROOT}/data/1_raw_input\")\n",
    "INPUT_PATH = Path(f\"{ROOT}/data/2_input\")\n",
    "RESULTS_PATH = Path(f\"{ROOT}/data/3_results/FINAL\")\n",
    "\n",
    "SESSION_ID = SESSION_NAME if SESSION_NAME else str(int(time.time()))\n",
    "SESSION_PATH = Path(f\"{RESULTS_PATH}/{SESSION_ID}\")\n",
    "\n",
    "!mkdir -p {RAW_INPUT_PATH}\n",
    "!mkdir -p {INPUT_PATH}\n",
    "!mkdir -p {SESSION_PATH}\n",
    "\n",
    "print(f\"Created new session with ID {SESSION_ID} under {RESULTS_PATH}\")"
   ]
  },
  {
   "cell_type": "code",
   "execution_count": 2,
   "id": "c9c602b4-3018-4ec6-a3d3-4d9122b76fc2",
   "metadata": {
    "scrolled": true
   },
   "outputs": [
    {
     "name": "stdout",
     "output_type": "stream",
     "text": [
      "I0330 20:34:45.921332   510 misc.cc:198] \n",
      "==============================================================================\n",
      "Feature extraction\n",
      "==============================================================================\n",
      "run_colmap_sparse_dsp-sift.sh: line 31:   509 Killed                  colmap feature_extractor --database_path=\"${db_path}\" --image_path=\"${image_path}\" --ImageReader.camera_model=SIMPLE_RADIAL --ImageReader.single_camera=false --SiftExtraction.use_gpu=\"${use_gpu}\" --SiftExtraction.num_threads=16 --SiftExtraction.max_image_size=5000 --SiftExtraction.max_num_features=10000 --SiftExtraction.estimate_affine_shape=1 --SiftExtraction.domain_size_pooling=1\n",
      "I0330 20:35:01.820255   548 misc.cc:198] \n",
      "==============================================================================\n",
      "Sequential feature matching\n",
      "==============================================================================\n",
      "E0330 20:35:01.823191   549 logging.h:92] [sift.cc:84] Check failed: max_num_matches > 0 (0 vs. 0)\n",
      "F0330 20:35:01.823221   549 sift.cc:1219] Check failed: options_.Check() \n",
      "*** Check failure stack trace: ***\n",
      "    @     0x7f88339cd1c3  google::LogMessage::Fail()\n",
      "    @     0x7f88339d225b  google::LogMessage::SendToLog()\n",
      "    @     0x7f88339ccebf  google::LogMessage::Flush()\n",
      "    @     0x7f88339cd6ef  google::LogMessageFatal::~LogMessageFatal()\n",
      "    @     0x561af98d3b2d  colmap::(anonymous namespace)::SiftGPUFeatureMatcher::Create()\n",
      "    @     0x561af98d3c11  colmap::CreateSiftFeatureMatcher()\n",
      "    @     0x561af9245fc0  colmap::FeatureMatcherWorker::Run()\n",
      "    @     0x561af92e0331  colmap::Thread::RunFunc()\n",
      "    @     0x7f88325c2df4  (unknown)\n",
      "    @     0x7f88339a5609  start_thread\n",
      "    @     0x7f88322af353  clone\n",
      "run_colmap_sparse_dsp-sift.sh: line 35:   545 Aborted                 colmap sequential_matcher --database_path=\"${db_path}\" --SiftMatching.use_gpu=\"${use_gpu}\"\n",
      "I0330 20:35:01.932781   553 misc.cc:198] \n",
      "==============================================================================\n",
      "Loading database\n",
      "==============================================================================\n",
      "I0330 20:35:01.962085   553 database_cache.cc:54] Loading cameras...\n",
      "I0330 20:35:01.962842   553 database_cache.cc:64]  21 in 0.001s\n",
      "I0330 20:35:01.962874   553 database_cache.cc:72] Loading matches...\n",
      "I0330 20:35:01.963269   553 database_cache.cc:78]  0 in 0.000s\n",
      "I0330 20:35:01.963299   553 database_cache.cc:94] Loading images...\n",
      "I0330 20:35:01.964514   553 database_cache.cc:143]  0 in 0.001s (connected 0)\n",
      "I0330 20:35:01.964545   553 database_cache.cc:154] Building correspondence graph...\n",
      "I0330 20:35:01.964555   553 database_cache.cc:190]  in 0.000s (ignored 0)\n",
      "I0330 20:35:01.964560   553 timer.cc:91] Elapsed time: 0.000 [minutes]\n",
      "W0330 20:35:01.964563   553 incremental_mapper.cc:349] No images with matches found in the database\n",
      "E0330 20:35:01.973553   552 sfm.cc:266] failed to create sparse model\n",
      "cp: cannot stat '/mnt/d/dev/python/historical-photo-sfm-pipeline/data/3_results/FINAL/DSP_SIFT_RatehausKoepenickShort_AgfaIsolette/sparse/0/*.bin': No such file or directory\n",
      "F0330 20:35:02.124730   557 reconstruction.cc:683] cameras, images, points3D files do not exist at /mnt/d/dev/python/historical-photo-sfm-pipeline/data/3_results/FINAL/DSP_SIFT_RatehausKoepenickShort_AgfaIsolette/sparse\n",
      "*** Check failure stack trace: ***\n",
      "    @     0x7fb94bd931c3  google::LogMessage::Fail()\n",
      "    @     0x7fb94bd9825b  google::LogMessage::SendToLog()\n",
      "    @     0x7fb94bd92ebf  google::LogMessage::Flush()\n",
      "    @     0x7fb94bd936ef  google::LogMessageFatal::~LogMessageFatal()\n",
      "    @     0x55f090dcb907  colmap::Reconstruction::Read()\n",
      "    @     0x55f090ce52fe  colmap::RunModelMerger()\n",
      "    @     0x55f090c9b00f  main\n",
      "    @     0x7fb94a57a083  __libc_start_main\n",
      "    @     0x55f090ca20fe  _start\n",
      "run_colmap_sparse_dsp-sift.sh: line 43:   557 Aborted                 colmap model_merger --input_path1=\"${sparse_path}\" --input_path2=\"${sparse_path}/${m}\" --output_path=\"${sparse_path}\"\n",
      "F0330 20:35:02.216696   558 reconstruction.cc:683] cameras, images, points3D files do not exist at /mnt/d/dev/python/historical-photo-sfm-pipeline/data/3_results/FINAL/DSP_SIFT_RatehausKoepenickShort_AgfaIsolette/sparse\n",
      "*** Check failure stack trace: ***\n",
      "    @     0x7fcca834b1c3  google::LogMessage::Fail()\n",
      "    @     0x7fcca835025b  google::LogMessage::SendToLog()\n",
      "    @     0x7fcca834aebf  google::LogMessage::Flush()\n",
      "    @     0x7fcca834b6ef  google::LogMessageFatal::~LogMessageFatal()\n",
      "    @     0x561d36ef1907  colmap::Reconstruction::Read()\n",
      "    @     0x561d36dde6c3  colmap::RunBundleAdjuster()\n",
      "    @     0x561d36dc100f  main\n",
      "    @     0x7fcca6b32083  __libc_start_main\n",
      "    @     0x561d36dc80fe  _start\n",
      "run_colmap_sparse_dsp-sift.sh: line 56:   558 Aborted                 colmap bundle_adjuster --input_path=\"${sparse_path}\" --output_path=\"${sparse_path}\"\n"
     ]
    }
   ],
   "source": [
    "# Sparse Reconstruction (Step 1)\n",
    "#! bash run_colmap_sparse.sh \"{SESSION_PATH}\" \"{INPUT_PATH}\"\n",
    "\n",
    "# DSP SIFT\n",
    "! bash run_colmap_sparse_dsp-sift.sh \"{SESSION_PATH}\" \"{INPUT_PATH}\"\n",
    "\n",
    "#MASK_PATH = f\"{INPUT_PATH}/masks\"\n",
    "#! bash run_colmap_sparse_with_masks.sh \"{SESSION_PATH}\" \"{INPUT_PATH}\" \"{MASK_PATH}\""
   ]
  },
  {
   "cell_type": "markdown",
   "id": "a594876f-94b2-49b2-ba22-89629b86d950",
   "metadata": {},
   "source": [
    "## Generate Transforms File\n",
    "Generate this file if you want to have camera, points etc. in a self contained file which you can then use to display everything in a 3D engine like Blender (see my scripts `colmap_pc_importer_ui.py` and `colmap_pc_importer.py` which u can load into Blender)"
   ]
  },
  {
   "cell_type": "code",
   "execution_count": 3,
   "id": "c13695c5-1659-4b9e-b74b-2f2192442a96",
   "metadata": {},
   "outputs": [
    {
     "name": "stdout",
     "output_type": "stream",
     "text": [
      "/mnt/d/dev/python/historical-photo-sfm-pipeline\n",
      "Fraction of images looking at the center: 0.17.\n",
      "Fraction of images positioned around the center: 0.75.\n",
      "Valid fraction of concentric images: 0.17.\n",
      "Writing data to json file:  /mnt/d/dev/python/historical-photo-sfm-pipeline/data/3_results/FINAL/DSP_SIFT_RatehausKoepenickShort_AgfaIsolette/transforms_withpoints.json\n"
     ]
    }
   ],
   "source": [
    "generate_transforms_script = f\"{ROOT}/scripts/third_party/neuralangelo/convert_data_to_json_advanced.py\"\n",
    "! python {generate_transforms_script} --data_dir \"{SESSION_PATH}\" --scene_type \"outdoor\" --image_dir \"{INPUT_PATH}\"\n",
    "\n",
    "#generate_transforms_script = f\"{ROOT}/scripts/third_party/neuralangelo/convert_data_to_json.py\"\n",
    "#! python {generate_transforms_script} --data_dir \"{SESSION_PATH}\" --scene_type \"outdoor\""
   ]
  }
 ],
 "metadata": {
  "kernelspec": {
   "display_name": "Python 3 (ipykernel)",
   "language": "python",
   "name": "python3"
  },
  "language_info": {
   "codemirror_mode": {
    "name": "ipython",
    "version": 3
   },
   "file_extension": ".py",
   "mimetype": "text/x-python",
   "name": "python",
   "nbconvert_exporter": "python",
   "pygments_lexer": "ipython3",
   "version": "3.9.18"
  }
 },
 "nbformat": 4,
 "nbformat_minor": 5
}
