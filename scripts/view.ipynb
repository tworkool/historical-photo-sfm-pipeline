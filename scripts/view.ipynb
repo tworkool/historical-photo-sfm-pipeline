{
 "cells": [
  {
   "cell_type": "code",
   "execution_count": null,
   "id": "aa571203-2f7e-403d-b852-433d11db2267",
   "metadata": {},
   "outputs": [],
   "source": [
    "import json\n",
    "import matplotlib.pyplot as plt\n",
    "from mpl_toolkits.mplot3d import Axes3D\n",
    "from mpl_toolkits.mplot3d.art3d import Line3DCollection\n",
    "\n",
    "# Load transforms from JSON file\n",
    "with open('transforms.json', 'r') as f:\n",
    "    data = json.load(f)\n",
    "\n",
    "# Extract camera poses\n",
    "camera_poses = [frame['transform_matrix'] for frame in data['frames']]\n",
    "\n",
    "# Visualize camera poses\n",
    "fig = plt.figure(figsize=(10, 8))\n",
    "ax = fig.add_subplot(111, projection='3d')\n",
    "\n",
    "# Extract camera positions\n",
    "camera_positions = [pose[:3, 3] for pose in camera_poses]\n",
    "\n",
    "# Plot camera positions\n",
    "ax.scatter(*zip(*camera_positions), c='r', marker='o', label='Camera Poses')\n",
    "\n",
    "# Connect camera positions with lines\n",
    "lines = []\n",
    "for i in range(len(camera_positions) - 1):\n",
    "    lines.append([camera_positions[i], camera_positions[i + 1]])\n",
    "\n",
    "# Create a line collection\n",
    "lc = Line3DCollection(lines, colors='b', linewidths=1, label='Camera Trajectory')\n",
    "ax.add_collection3d(lc)\n",
    "\n",
    "ax.set_xlabel('X')\n",
    "ax.set_ylabel('Y')\n",
    "ax.set_zlabel('Z')\n",
    "ax.set_title('Camera Poses')\n",
    "ax.legend()\n",
    "\n",
    "plt.show()"
   ]
  }
 ],
 "metadata": {
  "kernelspec": {
   "display_name": "Python 3 (ipykernel)",
   "language": "python",
   "name": "python3"
  },
  "language_info": {
   "codemirror_mode": {
    "name": "ipython",
    "version": 3
   },
   "file_extension": ".py",
   "mimetype": "text/x-python",
   "name": "python",
   "nbconvert_exporter": "python",
   "pygments_lexer": "ipython3",
   "version": "3.9.18"
  }
 },
 "nbformat": 4,
 "nbformat_minor": 5
}
